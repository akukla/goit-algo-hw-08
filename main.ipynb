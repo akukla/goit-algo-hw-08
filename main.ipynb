{
 "cells": [
  {
   "cell_type": "code",
   "execution_count": 16,
   "id": "dc6ada25-11af-483b-a7b7-9746640dd913",
   "metadata": {},
   "outputs": [
    {
     "name": "stdout",
     "output_type": "stream",
     "text": [
      "Довжини кабелів:  [3, 4, 5, 12, 8, 6, 68, 43]\n",
      "Порядок:  ['3 + 4 = 7', '5 + 6 = 11', '7 + 8 = 15', '11 + 12 = 23', '15 + 23 = 38', '38 + 43 = 81', '68 + 81 = 149']\n",
      "Кількість з'єднань 7\n",
      "Мінімальні витрати: 324\n"
     ]
    }
   ],
   "source": [
    "import heapq\n",
    "\n",
    "def minimize_cost(cables):\n",
    "    heapq.heapify(cables)  # ініціалізуємо min-heap\n",
    "\n",
    "    print(\"Довжини кабелів: \", cables)\n",
    "    order = []\n",
    "\n",
    "    total_cost = 0\n",
    "    while len(cables) > 1:\n",
    "        # беремо два найкоротші кабелі\n",
    "        shortest1 = heapq.heappop(cables)\n",
    "        shortest2 = heapq.heappop(cables)\n",
    "\n",
    "        # об'єднуємо їх та розраховуємо витрати\n",
    "        new_cable = shortest1 + shortest2\n",
    "        order.append(f'{shortest1} + {shortest2} = {new_cable}')\n",
    "        total_cost += new_cable\n",
    "\n",
    "        # додаємо об'єднаний кабель назад до купи\n",
    "        heapq.heappush(cables, new_cable)\n",
    "\n",
    "    return total_cost, order\n",
    "\n",
    "# Приклад використання\n",
    "cable_lengths = [8, 4, 6, 12, 3, 5, 68, 43]\n",
    "min_cost, order = minimize_cost(cable_lengths)\n",
    "print(\"Порядок: \", order)\n",
    "print('Кількість з\\'єднань', len(order))\n",
    "print(\"Мінімальні витрати:\", min_cost)\n"
   ]
  }
 ],
 "metadata": {
  "kernelspec": {
   "display_name": "Python 3 (ipykernel)",
   "language": "python",
   "name": "python3"
  },
  "language_info": {
   "codemirror_mode": {
    "name": "ipython",
    "version": 3
   },
   "file_extension": ".py",
   "mimetype": "text/x-python",
   "name": "python",
   "nbconvert_exporter": "python",
   "pygments_lexer": "ipython3",
   "version": "3.10.12"
  }
 },
 "nbformat": 4,
 "nbformat_minor": 5
}
